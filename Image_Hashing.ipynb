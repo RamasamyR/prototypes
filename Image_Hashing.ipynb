{
 "cells": [
  {
   "cell_type": "markdown",
   "metadata": {},
   "source": [
    "# Hashing and Changing Images"
   ]
  },
  {
   "cell_type": "code",
   "execution_count": 37,
   "metadata": {},
   "outputs": [],
   "source": [
    "import pandas as pd\n",
    "import numpy as np\n",
    "from glob import glob, os\n",
    "import imagehash as imh\n",
    "from PIL import Image\n",
    "from tqdm import tqdm\n",
    "from matplotlib import pyplot as plt\n",
    "import hashlib\n",
    "import pyexiv2\n",
    "import shutil\n",
    "import uuid"
   ]
  },
  {
   "cell_type": "code",
   "execution_count": null,
   "metadata": {},
   "outputs": [],
   "source": [
    "image1 = rf\"D:\\Tasks\\prototypes\\Ship_Collabe\\poc_images\\000452.bmp\"\n",
    "image2 = rf\"D:\\Tasks\\prototypes\\Ship_Collabe\\poc_images\\000452 - Copy.bmp\"\n",
    "\n",
    "#image1\n",
    "img1 = Image.open(image1)\n",
    "hv1 = imh.dhash(img1)\n",
    "with open(image1, \"rb\") as img01:\n",
    "    hash1 = hashlib.sha256(img01.read()).hexdigest()\n",
    "plt.figure()\n",
    "plt.imshow(img1)\n",
    "\n",
    "\n",
    "#image1\n",
    "img2 = Image.open(image2)\n",
    "hv2 = imh.dhash(img2)\n",
    "with open(image1, \"rb\") as img02:\n",
    "    hash2 = hashlib.sha256(img02.read()).hexdigest()\n",
    "plt.figure()\n",
    "plt.imshow(img2)\n",
    "\n",
    "print(hv1, hv2, sep=\"\\n\")\n",
    "print(hv1==hv2, sep=\"\\n\")\n",
    "print(hash1, hash2, sep=\"\\n\")\n",
    "print(hash1==hash2, sep=\"\\n\")"
   ]
  },
  {
   "cell_type": "markdown",
   "metadata": {},
   "source": [
    "# Renaming Files with Random Name"
   ]
  },
  {
   "cell_type": "code",
   "execution_count": 36,
   "metadata": {},
   "outputs": [
    {
     "name": "stderr",
     "output_type": "stream",
     "text": [
      "Renaming Files:: 100%|██████████| 50/50 [00:00<00:00, 228.48it/s]\n"
     ]
    }
   ],
   "source": [
    "for file in tqdm(glob(\"D:\\Tasks\\prototypes\\Ship_Collabe\\poc_images\\*.bmp\"), desc=\"Renaming Files:\"):\n",
    "    cr_filename = os.path.basename(file)\n",
    "    new_name, extension = os.path.splitext(file)\n",
    "    try:\n",
    "        dest_path = os.path.dirname(file) + '\\\\'+ 'Renamed_Files'\n",
    "        os.mkdir(dest_path)\n",
    "    except OSError:\n",
    "        pass\n",
    "    copy_file = shutil.copy2(file, dest_path)\n",
    "    encry_name = os.path.join(dest_path, str(uuid.uuid4())[0:8])\n",
    "    os.rename(copy_file, encry_name + extension)"
   ]
  }
 ],
 "metadata": {
  "kernelspec": {
   "display_name": "Python 3.10.4 64-bit",
   "language": "python",
   "name": "python3"
  },
  "language_info": {
   "codemirror_mode": {
    "name": "ipython",
    "version": 3
   },
   "file_extension": ".py",
   "mimetype": "text/x-python",
   "name": "python",
   "nbconvert_exporter": "python",
   "pygments_lexer": "ipython3",
   "version": "3.10.4"
  },
  "orig_nbformat": 4,
  "vscode": {
   "interpreter": {
    "hash": "69544164a7f77ca5726a9a8540f3366db24cbb1df91c4dd19cb2f055d32846f2"
   }
  }
 },
 "nbformat": 4,
 "nbformat_minor": 2
}
